{
 "metadata": {
  "language_info": {
   "codemirror_mode": {
    "name": "ipython",
    "version": 3
   },
   "file_extension": ".py",
   "mimetype": "text/x-python",
   "name": "python",
   "nbconvert_exporter": "python",
   "pygments_lexer": "ipython3",
   "version": "3.9.4"
  },
  "orig_nbformat": 2,
  "kernelspec": {
   "name": "python394jvsc74a57bd02647ea34e536f865ab67ff9ddee7fd78773d956cec0cab53c79b32cd10da5d83",
   "display_name": "Python 3.9.4 64-bit"
  }
 },
 "nbformat": 4,
 "nbformat_minor": 2,
 "cells": [
  {
   "source": [
    "## Data preparation\n",
    "Today we will use the 20newsgroups dataset as seen in the \"bitezize-NLP-prep-20newsgroups\" repository"
   ],
   "cell_type": "markdown",
   "metadata": {}
  },
  {
   "cell_type": "code",
   "execution_count": 1,
   "metadata": {},
   "outputs": [],
   "source": [
    "import pandas as pd\n",
    "import re\n",
    "\n",
    "from nltk.corpus import stopwords\n",
    "from nltk.stem.wordnet import WordNetLemmatizer\n",
    "from nltk.tokenize import word_tokenize\n",
    "\n",
    "from sklearn.datasets import fetch_20newsgroups\n",
    "\n",
    "stop_words = stopwords.words(\"english\") #load the stop words (words to ignore list) for english\n",
    "df = pd.DataFrame(pd.Series(fetch_20newsgroups(subset='train').data))"
   ]
  },
  {
   "cell_type": "code",
   "execution_count": 2,
   "metadata": {},
   "outputs": [],
   "source": [
    "# Comment extraction\n",
    "\n",
    "def extractComments(x):\n",
    "    ''' INPUT: a string\n",
    "        OUTPUT: the right side of the string after splitting it\n",
    "            on the first double line break\n",
    "    '''\n",
    "    l = x.split('\\n\\n',1)\n",
    "    return l[1]\n",
    "\n",
    "df['comments'] = df[0].apply(lambda x: extractComments(x)).astype(str)"
   ]
  },
  {
   "cell_type": "code",
   "execution_count": 4,
   "metadata": {},
   "outputs": [],
   "source": [
    "# Comment cleaning\n",
    "\n",
    "def scrubString(x):\n",
    "    ''' INPUT: a string\n",
    "        OUTPUT: a string that has had links removed, then non-letters, then english stopwords\n",
    "            This will produce a blank string if it only consisted of links, numbers, etc\n",
    "    '''\n",
    "    lemmatizer = WordNetLemmatizer()\n",
    "    \n",
    "    x = re.sub(\"\\S*@\\S*\\s?\",\"\",x) #Remove email addresses\n",
    "    x = re.sub(\"#\\S+|&\\S+|@\\S+|https?:\\S+|RT|[^A-Za-z0-9]+\",' ', x) #Remove hyperlinks\n",
    "    x = re.sub(\"&\\S*|@\\S+|https?:\\S+\",' ', x) #Remove more hyperlinks\n",
    "    x = re.sub(\"[^A-Za-z']+\",' ',x) #keep only letters\n",
    "\n",
    "    if len(x)==0:\n",
    "        return ''\n",
    "    \n",
    "    tokens = word_tokenize(x) # Convert the string into tokens\n",
    "    \n",
    "    # Lemmatize the words, and only keep non-stop words\n",
    "    tokens = [lemmatizer.lemmatize(word).strip() for word in tokens if word not in stop_words]\n",
    "    \n",
    "    if len(tokens)==0:\n",
    "        return ''\n",
    "    \n",
    "    return ' '.join(map(str,tokens))\n",
    "\n",
    "df['cleaned'] = df['comments'].apply(lambda x: scrubString(x))"
   ]
  },
  {
   "source": [
    "## Topic modelling\n",
    "Now we get to use gensim to extract topics"
   ],
   "cell_type": "markdown",
   "metadata": {}
  },
  {
   "cell_type": "code",
   "execution_count": 6,
   "metadata": {},
   "outputs": [],
   "source": [
    "# Extract and save the tokens of the cleaned text\n",
    "\n",
    "def extract_tokens(x, min_len=5):\n",
    "    ''' INPUT: a string\n",
    "        OUTPUT: a list of tokens with that meet a minimum length\n",
    "    '''\n",
    "    tokens = word_tokenize(x)\n",
    "    tokens = [token for token in tokens if len(token) >= min_len]\n",
    "    return tokens\n",
    "\n",
    "df['tokens'] = df['cleaned'].apply(lambda x: extract_tokens(x))"
   ]
  },
  {
   "cell_type": "code",
   "execution_count": 7,
   "metadata": {},
   "outputs": [
    {
     "output_type": "error",
     "ename": "ModuleNotFoundError",
     "evalue": "No module named 'gensim'",
     "traceback": [
      "\u001b[1;31m---------------------------------------------------------------------------\u001b[0m",
      "\u001b[1;31mModuleNotFoundError\u001b[0m                       Traceback (most recent call last)",
      "\u001b[1;32m<ipython-input-7-e70e92d32c6e>\u001b[0m in \u001b[0;36m<module>\u001b[1;34m\u001b[0m\n\u001b[1;32m----> 1\u001b[1;33m \u001b[1;32mimport\u001b[0m \u001b[0mgensim\u001b[0m\u001b[1;33m\u001b[0m\u001b[1;33m\u001b[0m\u001b[0m\n\u001b[0m",
      "\u001b[1;31mModuleNotFoundError\u001b[0m: No module named 'gensim'"
     ]
    }
   ],
   "source": [
    "import gensim"
   ]
  },
  {
   "cell_type": "code",
   "execution_count": null,
   "metadata": {},
   "outputs": [],
   "source": []
  }
 ]
}